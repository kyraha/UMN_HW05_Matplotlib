{
  "nbformat": 4,
  "nbformat_minor": 0,
  "metadata": {
    "anaconda-cloud": {},
    "kernelspec": {
      "display_name": "Python 3",
      "language": "python",
      "name": "python3"
    },
    "language_info": {
      "codemirror_mode": {
        "name": "ipython",
        "version": 3
      },
      "file_extension": ".py",
      "mimetype": "text/x-python",
      "name": "python",
      "nbconvert_exporter": "python",
      "pygments_lexer": "ipython3",
      "version": "3.6.9"
    },
    "colab": {
      "name": "pymaceuticals_starter.ipynb",
      "provenance": [],
      "toc_visible": true
    }
  },
  "cells": [
    {
      "cell_type": "markdown",
      "metadata": {
        "id": "3hhj2jZNCraG",
        "colab_type": "text"
      },
      "source": [
        "## Observations and Insights "
      ]
    },
    {
      "cell_type": "markdown",
      "metadata": {
        "id": "mzxgiIvRCraL",
        "colab_type": "text"
      },
      "source": [
        ""
      ]
    },
    {
      "cell_type": "code",
      "metadata": {
        "id": "f45JRqhTCraP",
        "colab_type": "code",
        "colab": {
          "base_uri": "https://localhost:8080/",
          "height": 441
        },
        "outputId": "92ca95f4-4098-4b3c-ba5c-efc50ebb3a79"
      },
      "source": [
        "# Dependencies and Setup\n",
        "import matplotlib.pyplot as plt\n",
        "import pandas as pd\n",
        "import scipy.stats as st\n",
        "\n",
        "# Study data files\n",
        "mouse_metadata_path = \"data/Mouse_metadata.csv\"\n",
        "study_results_path = \"data/Study_results.csv\"\n",
        "\n",
        "# Read the mouse data and the study results\n",
        "mouse_metadata = pd.read_csv(mouse_metadata_path)\n",
        "study_results = pd.read_csv(study_results_path)\n",
        "\n",
        "# Combine the data into a single dataset\n",
        "df_flat = study_results.merge(mouse_metadata, on=\"Mouse ID\")\n",
        "df_flat"
      ],
      "execution_count": 2,
      "outputs": [
        {
          "output_type": "execute_result",
          "data": {
            "text/html": [
              "<div>\n",
              "<style scoped>\n",
              "    .dataframe tbody tr th:only-of-type {\n",
              "        vertical-align: middle;\n",
              "    }\n",
              "\n",
              "    .dataframe tbody tr th {\n",
              "        vertical-align: top;\n",
              "    }\n",
              "\n",
              "    .dataframe thead th {\n",
              "        text-align: right;\n",
              "    }\n",
              "</style>\n",
              "<table border=\"1\" class=\"dataframe\">\n",
              "  <thead>\n",
              "    <tr style=\"text-align: right;\">\n",
              "      <th></th>\n",
              "      <th>Mouse ID</th>\n",
              "      <th>Timepoint</th>\n",
              "      <th>Tumor Volume (mm3)</th>\n",
              "      <th>Metastatic Sites</th>\n",
              "      <th>Drug Regimen</th>\n",
              "      <th>Sex</th>\n",
              "      <th>Age_months</th>\n",
              "      <th>Weight (g)</th>\n",
              "    </tr>\n",
              "  </thead>\n",
              "  <tbody>\n",
              "    <tr>\n",
              "      <th>0</th>\n",
              "      <td>b128</td>\n",
              "      <td>0</td>\n",
              "      <td>45.000000</td>\n",
              "      <td>0</td>\n",
              "      <td>Capomulin</td>\n",
              "      <td>Female</td>\n",
              "      <td>9</td>\n",
              "      <td>22</td>\n",
              "    </tr>\n",
              "    <tr>\n",
              "      <th>1</th>\n",
              "      <td>b128</td>\n",
              "      <td>5</td>\n",
              "      <td>45.651331</td>\n",
              "      <td>0</td>\n",
              "      <td>Capomulin</td>\n",
              "      <td>Female</td>\n",
              "      <td>9</td>\n",
              "      <td>22</td>\n",
              "    </tr>\n",
              "    <tr>\n",
              "      <th>2</th>\n",
              "      <td>b128</td>\n",
              "      <td>10</td>\n",
              "      <td>43.270852</td>\n",
              "      <td>0</td>\n",
              "      <td>Capomulin</td>\n",
              "      <td>Female</td>\n",
              "      <td>9</td>\n",
              "      <td>22</td>\n",
              "    </tr>\n",
              "    <tr>\n",
              "      <th>3</th>\n",
              "      <td>b128</td>\n",
              "      <td>15</td>\n",
              "      <td>43.784893</td>\n",
              "      <td>0</td>\n",
              "      <td>Capomulin</td>\n",
              "      <td>Female</td>\n",
              "      <td>9</td>\n",
              "      <td>22</td>\n",
              "    </tr>\n",
              "    <tr>\n",
              "      <th>4</th>\n",
              "      <td>b128</td>\n",
              "      <td>20</td>\n",
              "      <td>42.731552</td>\n",
              "      <td>0</td>\n",
              "      <td>Capomulin</td>\n",
              "      <td>Female</td>\n",
              "      <td>9</td>\n",
              "      <td>22</td>\n",
              "    </tr>\n",
              "    <tr>\n",
              "      <th>...</th>\n",
              "      <td>...</td>\n",
              "      <td>...</td>\n",
              "      <td>...</td>\n",
              "      <td>...</td>\n",
              "      <td>...</td>\n",
              "      <td>...</td>\n",
              "      <td>...</td>\n",
              "      <td>...</td>\n",
              "    </tr>\n",
              "    <tr>\n",
              "      <th>1888</th>\n",
              "      <td>m601</td>\n",
              "      <td>25</td>\n",
              "      <td>33.118756</td>\n",
              "      <td>1</td>\n",
              "      <td>Capomulin</td>\n",
              "      <td>Male</td>\n",
              "      <td>22</td>\n",
              "      <td>17</td>\n",
              "    </tr>\n",
              "    <tr>\n",
              "      <th>1889</th>\n",
              "      <td>m601</td>\n",
              "      <td>30</td>\n",
              "      <td>31.758275</td>\n",
              "      <td>1</td>\n",
              "      <td>Capomulin</td>\n",
              "      <td>Male</td>\n",
              "      <td>22</td>\n",
              "      <td>17</td>\n",
              "    </tr>\n",
              "    <tr>\n",
              "      <th>1890</th>\n",
              "      <td>m601</td>\n",
              "      <td>35</td>\n",
              "      <td>30.834357</td>\n",
              "      <td>1</td>\n",
              "      <td>Capomulin</td>\n",
              "      <td>Male</td>\n",
              "      <td>22</td>\n",
              "      <td>17</td>\n",
              "    </tr>\n",
              "    <tr>\n",
              "      <th>1891</th>\n",
              "      <td>m601</td>\n",
              "      <td>40</td>\n",
              "      <td>31.378045</td>\n",
              "      <td>1</td>\n",
              "      <td>Capomulin</td>\n",
              "      <td>Male</td>\n",
              "      <td>22</td>\n",
              "      <td>17</td>\n",
              "    </tr>\n",
              "    <tr>\n",
              "      <th>1892</th>\n",
              "      <td>m601</td>\n",
              "      <td>45</td>\n",
              "      <td>28.430964</td>\n",
              "      <td>1</td>\n",
              "      <td>Capomulin</td>\n",
              "      <td>Male</td>\n",
              "      <td>22</td>\n",
              "      <td>17</td>\n",
              "    </tr>\n",
              "  </tbody>\n",
              "</table>\n",
              "<p>1893 rows × 8 columns</p>\n",
              "</div>"
            ],
            "text/plain": [
              "     Mouse ID  Timepoint  Tumor Volume (mm3)  ...     Sex Age_months Weight (g)\n",
              "0        b128          0           45.000000  ...  Female          9         22\n",
              "1        b128          5           45.651331  ...  Female          9         22\n",
              "2        b128         10           43.270852  ...  Female          9         22\n",
              "3        b128         15           43.784893  ...  Female          9         22\n",
              "4        b128         20           42.731552  ...  Female          9         22\n",
              "...       ...        ...                 ...  ...     ...        ...        ...\n",
              "1888     m601         25           33.118756  ...    Male         22         17\n",
              "1889     m601         30           31.758275  ...    Male         22         17\n",
              "1890     m601         35           30.834357  ...    Male         22         17\n",
              "1891     m601         40           31.378045  ...    Male         22         17\n",
              "1892     m601         45           28.430964  ...    Male         22         17\n",
              "\n",
              "[1893 rows x 8 columns]"
            ]
          },
          "metadata": {
            "tags": []
          },
          "execution_count": 2
        }
      ]
    },
    {
      "cell_type": "code",
      "metadata": {
        "id": "OksAxBvdCram",
        "colab_type": "code",
        "colab": {
          "base_uri": "https://localhost:8080/",
          "height": 34
        },
        "outputId": "116b31c1-1c62-4f74-ad33-2838fb4d4b6a"
      },
      "source": [
        "# Checking the number of mice in the DataFrame.\n",
        "len(df_flat[\"Mouse ID\"].unique())"
      ],
      "execution_count": 3,
      "outputs": [
        {
          "output_type": "execute_result",
          "data": {
            "text/plain": [
              "249"
            ]
          },
          "metadata": {
            "tags": []
          },
          "execution_count": 3
        }
      ]
    },
    {
      "cell_type": "code",
      "metadata": {
        "id": "NW17NvacCray",
        "colab_type": "code",
        "colab": {
          "base_uri": "https://localhost:8080/",
          "height": 224
        },
        "outputId": "d69bcca8-d2e6-46a2-a27f-b1db75dc3729"
      },
      "source": [
        "# Getting the duplicate mice by ID number that shows up for Mouse ID and Timepoint. \n",
        "s1 = df_flat.duplicated([\"Mouse ID\", \"Timepoint\"])\n",
        "df_flat[s1]"
      ],
      "execution_count": 4,
      "outputs": [
        {
          "output_type": "execute_result",
          "data": {
            "text/html": [
              "<div>\n",
              "<style scoped>\n",
              "    .dataframe tbody tr th:only-of-type {\n",
              "        vertical-align: middle;\n",
              "    }\n",
              "\n",
              "    .dataframe tbody tr th {\n",
              "        vertical-align: top;\n",
              "    }\n",
              "\n",
              "    .dataframe thead th {\n",
              "        text-align: right;\n",
              "    }\n",
              "</style>\n",
              "<table border=\"1\" class=\"dataframe\">\n",
              "  <thead>\n",
              "    <tr style=\"text-align: right;\">\n",
              "      <th></th>\n",
              "      <th>Mouse ID</th>\n",
              "      <th>Timepoint</th>\n",
              "      <th>Tumor Volume (mm3)</th>\n",
              "      <th>Metastatic Sites</th>\n",
              "      <th>Drug Regimen</th>\n",
              "      <th>Sex</th>\n",
              "      <th>Age_months</th>\n",
              "      <th>Weight (g)</th>\n",
              "    </tr>\n",
              "  </thead>\n",
              "  <tbody>\n",
              "    <tr>\n",
              "      <th>861</th>\n",
              "      <td>g989</td>\n",
              "      <td>0</td>\n",
              "      <td>45.000000</td>\n",
              "      <td>0</td>\n",
              "      <td>Propriva</td>\n",
              "      <td>Female</td>\n",
              "      <td>21</td>\n",
              "      <td>26</td>\n",
              "    </tr>\n",
              "    <tr>\n",
              "      <th>863</th>\n",
              "      <td>g989</td>\n",
              "      <td>5</td>\n",
              "      <td>47.570392</td>\n",
              "      <td>0</td>\n",
              "      <td>Propriva</td>\n",
              "      <td>Female</td>\n",
              "      <td>21</td>\n",
              "      <td>26</td>\n",
              "    </tr>\n",
              "    <tr>\n",
              "      <th>865</th>\n",
              "      <td>g989</td>\n",
              "      <td>10</td>\n",
              "      <td>49.880528</td>\n",
              "      <td>0</td>\n",
              "      <td>Propriva</td>\n",
              "      <td>Female</td>\n",
              "      <td>21</td>\n",
              "      <td>26</td>\n",
              "    </tr>\n",
              "    <tr>\n",
              "      <th>867</th>\n",
              "      <td>g989</td>\n",
              "      <td>15</td>\n",
              "      <td>53.442020</td>\n",
              "      <td>0</td>\n",
              "      <td>Propriva</td>\n",
              "      <td>Female</td>\n",
              "      <td>21</td>\n",
              "      <td>26</td>\n",
              "    </tr>\n",
              "    <tr>\n",
              "      <th>869</th>\n",
              "      <td>g989</td>\n",
              "      <td>20</td>\n",
              "      <td>54.657650</td>\n",
              "      <td>1</td>\n",
              "      <td>Propriva</td>\n",
              "      <td>Female</td>\n",
              "      <td>21</td>\n",
              "      <td>26</td>\n",
              "    </tr>\n",
              "  </tbody>\n",
              "</table>\n",
              "</div>"
            ],
            "text/plain": [
              "    Mouse ID  Timepoint  Tumor Volume (mm3)  ...     Sex Age_months Weight (g)\n",
              "861     g989          0           45.000000  ...  Female         21         26\n",
              "863     g989          5           47.570392  ...  Female         21         26\n",
              "865     g989         10           49.880528  ...  Female         21         26\n",
              "867     g989         15           53.442020  ...  Female         21         26\n",
              "869     g989         20           54.657650  ...  Female         21         26\n",
              "\n",
              "[5 rows x 8 columns]"
            ]
          },
          "metadata": {
            "tags": []
          },
          "execution_count": 4
        }
      ]
    },
    {
      "cell_type": "code",
      "metadata": {
        "id": "iGt20K50CrbD",
        "colab_type": "code",
        "colab": {
          "base_uri": "https://localhost:8080/",
          "height": 475
        },
        "outputId": "fd5bc5b6-987f-45b7-a057-c9b1bc372136"
      },
      "source": [
        "# Optional: Get all the data for the duplicate mouse ID. \n",
        "df_flat[df_flat[\"Mouse ID\"] == \"g989\"]"
      ],
      "execution_count": 5,
      "outputs": [
        {
          "output_type": "execute_result",
          "data": {
            "text/html": [
              "<div>\n",
              "<style scoped>\n",
              "    .dataframe tbody tr th:only-of-type {\n",
              "        vertical-align: middle;\n",
              "    }\n",
              "\n",
              "    .dataframe tbody tr th {\n",
              "        vertical-align: top;\n",
              "    }\n",
              "\n",
              "    .dataframe thead th {\n",
              "        text-align: right;\n",
              "    }\n",
              "</style>\n",
              "<table border=\"1\" class=\"dataframe\">\n",
              "  <thead>\n",
              "    <tr style=\"text-align: right;\">\n",
              "      <th></th>\n",
              "      <th>Mouse ID</th>\n",
              "      <th>Timepoint</th>\n",
              "      <th>Tumor Volume (mm3)</th>\n",
              "      <th>Metastatic Sites</th>\n",
              "      <th>Drug Regimen</th>\n",
              "      <th>Sex</th>\n",
              "      <th>Age_months</th>\n",
              "      <th>Weight (g)</th>\n",
              "    </tr>\n",
              "  </thead>\n",
              "  <tbody>\n",
              "    <tr>\n",
              "      <th>860</th>\n",
              "      <td>g989</td>\n",
              "      <td>0</td>\n",
              "      <td>45.000000</td>\n",
              "      <td>0</td>\n",
              "      <td>Propriva</td>\n",
              "      <td>Female</td>\n",
              "      <td>21</td>\n",
              "      <td>26</td>\n",
              "    </tr>\n",
              "    <tr>\n",
              "      <th>861</th>\n",
              "      <td>g989</td>\n",
              "      <td>0</td>\n",
              "      <td>45.000000</td>\n",
              "      <td>0</td>\n",
              "      <td>Propriva</td>\n",
              "      <td>Female</td>\n",
              "      <td>21</td>\n",
              "      <td>26</td>\n",
              "    </tr>\n",
              "    <tr>\n",
              "      <th>862</th>\n",
              "      <td>g989</td>\n",
              "      <td>5</td>\n",
              "      <td>48.786801</td>\n",
              "      <td>0</td>\n",
              "      <td>Propriva</td>\n",
              "      <td>Female</td>\n",
              "      <td>21</td>\n",
              "      <td>26</td>\n",
              "    </tr>\n",
              "    <tr>\n",
              "      <th>863</th>\n",
              "      <td>g989</td>\n",
              "      <td>5</td>\n",
              "      <td>47.570392</td>\n",
              "      <td>0</td>\n",
              "      <td>Propriva</td>\n",
              "      <td>Female</td>\n",
              "      <td>21</td>\n",
              "      <td>26</td>\n",
              "    </tr>\n",
              "    <tr>\n",
              "      <th>864</th>\n",
              "      <td>g989</td>\n",
              "      <td>10</td>\n",
              "      <td>51.745156</td>\n",
              "      <td>0</td>\n",
              "      <td>Propriva</td>\n",
              "      <td>Female</td>\n",
              "      <td>21</td>\n",
              "      <td>26</td>\n",
              "    </tr>\n",
              "    <tr>\n",
              "      <th>865</th>\n",
              "      <td>g989</td>\n",
              "      <td>10</td>\n",
              "      <td>49.880528</td>\n",
              "      <td>0</td>\n",
              "      <td>Propriva</td>\n",
              "      <td>Female</td>\n",
              "      <td>21</td>\n",
              "      <td>26</td>\n",
              "    </tr>\n",
              "    <tr>\n",
              "      <th>866</th>\n",
              "      <td>g989</td>\n",
              "      <td>15</td>\n",
              "      <td>51.325852</td>\n",
              "      <td>1</td>\n",
              "      <td>Propriva</td>\n",
              "      <td>Female</td>\n",
              "      <td>21</td>\n",
              "      <td>26</td>\n",
              "    </tr>\n",
              "    <tr>\n",
              "      <th>867</th>\n",
              "      <td>g989</td>\n",
              "      <td>15</td>\n",
              "      <td>53.442020</td>\n",
              "      <td>0</td>\n",
              "      <td>Propriva</td>\n",
              "      <td>Female</td>\n",
              "      <td>21</td>\n",
              "      <td>26</td>\n",
              "    </tr>\n",
              "    <tr>\n",
              "      <th>868</th>\n",
              "      <td>g989</td>\n",
              "      <td>20</td>\n",
              "      <td>55.326122</td>\n",
              "      <td>1</td>\n",
              "      <td>Propriva</td>\n",
              "      <td>Female</td>\n",
              "      <td>21</td>\n",
              "      <td>26</td>\n",
              "    </tr>\n",
              "    <tr>\n",
              "      <th>869</th>\n",
              "      <td>g989</td>\n",
              "      <td>20</td>\n",
              "      <td>54.657650</td>\n",
              "      <td>1</td>\n",
              "      <td>Propriva</td>\n",
              "      <td>Female</td>\n",
              "      <td>21</td>\n",
              "      <td>26</td>\n",
              "    </tr>\n",
              "    <tr>\n",
              "      <th>870</th>\n",
              "      <td>g989</td>\n",
              "      <td>25</td>\n",
              "      <td>56.045564</td>\n",
              "      <td>1</td>\n",
              "      <td>Propriva</td>\n",
              "      <td>Female</td>\n",
              "      <td>21</td>\n",
              "      <td>26</td>\n",
              "    </tr>\n",
              "    <tr>\n",
              "      <th>871</th>\n",
              "      <td>g989</td>\n",
              "      <td>30</td>\n",
              "      <td>59.082294</td>\n",
              "      <td>1</td>\n",
              "      <td>Propriva</td>\n",
              "      <td>Female</td>\n",
              "      <td>21</td>\n",
              "      <td>26</td>\n",
              "    </tr>\n",
              "    <tr>\n",
              "      <th>872</th>\n",
              "      <td>g989</td>\n",
              "      <td>35</td>\n",
              "      <td>62.570880</td>\n",
              "      <td>2</td>\n",
              "      <td>Propriva</td>\n",
              "      <td>Female</td>\n",
              "      <td>21</td>\n",
              "      <td>26</td>\n",
              "    </tr>\n",
              "  </tbody>\n",
              "</table>\n",
              "</div>"
            ],
            "text/plain": [
              "    Mouse ID  Timepoint  Tumor Volume (mm3)  ...     Sex Age_months Weight (g)\n",
              "860     g989          0           45.000000  ...  Female         21         26\n",
              "861     g989          0           45.000000  ...  Female         21         26\n",
              "862     g989          5           48.786801  ...  Female         21         26\n",
              "863     g989          5           47.570392  ...  Female         21         26\n",
              "864     g989         10           51.745156  ...  Female         21         26\n",
              "865     g989         10           49.880528  ...  Female         21         26\n",
              "866     g989         15           51.325852  ...  Female         21         26\n",
              "867     g989         15           53.442020  ...  Female         21         26\n",
              "868     g989         20           55.326122  ...  Female         21         26\n",
              "869     g989         20           54.657650  ...  Female         21         26\n",
              "870     g989         25           56.045564  ...  Female         21         26\n",
              "871     g989         30           59.082294  ...  Female         21         26\n",
              "872     g989         35           62.570880  ...  Female         21         26\n",
              "\n",
              "[13 rows x 8 columns]"
            ]
          },
          "metadata": {
            "tags": []
          },
          "execution_count": 5
        }
      ]
    },
    {
      "cell_type": "code",
      "metadata": {
        "id": "_2Im1PmwCrbQ",
        "colab_type": "code",
        "colab": {
          "base_uri": "https://localhost:8080/",
          "height": 318
        },
        "outputId": "3205ec36-c652-436f-9773-d48bda4acf39"
      },
      "source": [
        "# Create a clean DataFrame by dropping the duplicate mouse by its ID.\n",
        "deduped = df_flat.drop_duplicates([\"Mouse ID\", \"Timepoint\"], keep=\"last\")\n",
        "deduped[deduped[\"Mouse ID\"] == \"g989\"]"
      ],
      "execution_count": 10,
      "outputs": [
        {
          "output_type": "execute_result",
          "data": {
            "text/html": [
              "<div>\n",
              "<style scoped>\n",
              "    .dataframe tbody tr th:only-of-type {\n",
              "        vertical-align: middle;\n",
              "    }\n",
              "\n",
              "    .dataframe tbody tr th {\n",
              "        vertical-align: top;\n",
              "    }\n",
              "\n",
              "    .dataframe thead th {\n",
              "        text-align: right;\n",
              "    }\n",
              "</style>\n",
              "<table border=\"1\" class=\"dataframe\">\n",
              "  <thead>\n",
              "    <tr style=\"text-align: right;\">\n",
              "      <th></th>\n",
              "      <th>Mouse ID</th>\n",
              "      <th>Timepoint</th>\n",
              "      <th>Tumor Volume (mm3)</th>\n",
              "      <th>Metastatic Sites</th>\n",
              "      <th>Drug Regimen</th>\n",
              "      <th>Sex</th>\n",
              "      <th>Age_months</th>\n",
              "      <th>Weight (g)</th>\n",
              "    </tr>\n",
              "  </thead>\n",
              "  <tbody>\n",
              "    <tr>\n",
              "      <th>861</th>\n",
              "      <td>g989</td>\n",
              "      <td>0</td>\n",
              "      <td>45.000000</td>\n",
              "      <td>0</td>\n",
              "      <td>Propriva</td>\n",
              "      <td>Female</td>\n",
              "      <td>21</td>\n",
              "      <td>26</td>\n",
              "    </tr>\n",
              "    <tr>\n",
              "      <th>863</th>\n",
              "      <td>g989</td>\n",
              "      <td>5</td>\n",
              "      <td>47.570392</td>\n",
              "      <td>0</td>\n",
              "      <td>Propriva</td>\n",
              "      <td>Female</td>\n",
              "      <td>21</td>\n",
              "      <td>26</td>\n",
              "    </tr>\n",
              "    <tr>\n",
              "      <th>865</th>\n",
              "      <td>g989</td>\n",
              "      <td>10</td>\n",
              "      <td>49.880528</td>\n",
              "      <td>0</td>\n",
              "      <td>Propriva</td>\n",
              "      <td>Female</td>\n",
              "      <td>21</td>\n",
              "      <td>26</td>\n",
              "    </tr>\n",
              "    <tr>\n",
              "      <th>867</th>\n",
              "      <td>g989</td>\n",
              "      <td>15</td>\n",
              "      <td>53.442020</td>\n",
              "      <td>0</td>\n",
              "      <td>Propriva</td>\n",
              "      <td>Female</td>\n",
              "      <td>21</td>\n",
              "      <td>26</td>\n",
              "    </tr>\n",
              "    <tr>\n",
              "      <th>869</th>\n",
              "      <td>g989</td>\n",
              "      <td>20</td>\n",
              "      <td>54.657650</td>\n",
              "      <td>1</td>\n",
              "      <td>Propriva</td>\n",
              "      <td>Female</td>\n",
              "      <td>21</td>\n",
              "      <td>26</td>\n",
              "    </tr>\n",
              "    <tr>\n",
              "      <th>870</th>\n",
              "      <td>g989</td>\n",
              "      <td>25</td>\n",
              "      <td>56.045564</td>\n",
              "      <td>1</td>\n",
              "      <td>Propriva</td>\n",
              "      <td>Female</td>\n",
              "      <td>21</td>\n",
              "      <td>26</td>\n",
              "    </tr>\n",
              "    <tr>\n",
              "      <th>871</th>\n",
              "      <td>g989</td>\n",
              "      <td>30</td>\n",
              "      <td>59.082294</td>\n",
              "      <td>1</td>\n",
              "      <td>Propriva</td>\n",
              "      <td>Female</td>\n",
              "      <td>21</td>\n",
              "      <td>26</td>\n",
              "    </tr>\n",
              "    <tr>\n",
              "      <th>872</th>\n",
              "      <td>g989</td>\n",
              "      <td>35</td>\n",
              "      <td>62.570880</td>\n",
              "      <td>2</td>\n",
              "      <td>Propriva</td>\n",
              "      <td>Female</td>\n",
              "      <td>21</td>\n",
              "      <td>26</td>\n",
              "    </tr>\n",
              "  </tbody>\n",
              "</table>\n",
              "</div>"
            ],
            "text/plain": [
              "    Mouse ID  Timepoint  Tumor Volume (mm3)  ...     Sex Age_months Weight (g)\n",
              "861     g989          0           45.000000  ...  Female         21         26\n",
              "863     g989          5           47.570392  ...  Female         21         26\n",
              "865     g989         10           49.880528  ...  Female         21         26\n",
              "867     g989         15           53.442020  ...  Female         21         26\n",
              "869     g989         20           54.657650  ...  Female         21         26\n",
              "870     g989         25           56.045564  ...  Female         21         26\n",
              "871     g989         30           59.082294  ...  Female         21         26\n",
              "872     g989         35           62.570880  ...  Female         21         26\n",
              "\n",
              "[8 rows x 8 columns]"
            ]
          },
          "metadata": {
            "tags": []
          },
          "execution_count": 10
        }
      ]
    },
    {
      "cell_type": "code",
      "metadata": {
        "id": "OujhLBaaCrbc",
        "colab_type": "code",
        "colab": {
          "base_uri": "https://localhost:8080/",
          "height": 52
        },
        "outputId": "416b0dbe-c5d9-41f5-d4d6-9dc512bbde9b"
      },
      "source": [
        "# Checking the number of mice in the clean DataFrame.\n",
        "print(len(deduped[\"Mouse ID\"].unique()))\n",
        "s0 = deduped.groupby(\"Mouse ID\")[\"Timepoint\"].count()\n",
        "s0[s0 == 10].count()"
      ],
      "execution_count": 17,
      "outputs": [
        {
          "output_type": "stream",
          "text": [
            "249\n"
          ],
          "name": "stdout"
        },
        {
          "output_type": "execute_result",
          "data": {
            "text/plain": [
              "130"
            ]
          },
          "metadata": {
            "tags": []
          },
          "execution_count": 17
        }
      ]
    },
    {
      "cell_type": "markdown",
      "metadata": {
        "id": "5Yxdxpk6Crbm",
        "colab_type": "text"
      },
      "source": [
        "## Summary Statistics"
      ]
    },
    {
      "cell_type": "code",
      "metadata": {
        "id": "qYgSO3dlCrbo",
        "colab_type": "code",
        "colab": {
          "base_uri": "https://localhost:8080/",
          "height": 225
        },
        "outputId": "fc4b5751-3076-4bd5-bb73-f772fe2da9df"
      },
      "source": [
        "# Generate a summary statistics table of mean, median, variance, standard deviation, and SEM of the tumor volume for each regimen\n",
        "gby_regimen = deduped.groupby(\"Drug Regimen\")\n",
        "gby_regimen[\"Tumor Volume (mm3)\"].mean()\n",
        "# This method is the most straighforward, creating multiple series and putting them all together at the end."
      ],
      "execution_count": 18,
      "outputs": [
        {
          "output_type": "execute_result",
          "data": {
            "text/plain": [
              "Drug Regimen\n",
              "Capomulin    40.675741\n",
              "Ceftamin     52.591172\n",
              "Infubinol    52.884795\n",
              "Ketapril     55.235638\n",
              "Naftisol     54.331565\n",
              "Placebo      54.033581\n",
              "Propriva     52.382993\n",
              "Ramicane     40.216745\n",
              "Stelasyn     54.233149\n",
              "Zoniferol    53.236507\n",
              "Name: Tumor Volume (mm3), dtype: float64"
            ]
          },
          "metadata": {
            "tags": []
          },
          "execution_count": 18
        }
      ]
    },
    {
      "cell_type": "code",
      "metadata": {
        "scrolled": true,
        "id": "Bq3oJAqACrbw",
        "colab_type": "code",
        "colab": {
          "base_uri": "https://localhost:8080/",
          "height": 395
        },
        "outputId": "ca70f9a4-179e-40af-8818-fcc25a22de00"
      },
      "source": [
        "# Generate a summary statistics table of mean, median, variance, standard deviation, and SEM of the tumor volume for each regimen\n",
        "summary = pd.DataFrame({\n",
        "    \"mean\":     gby_regimen[\"Tumor Volume (mm3)\"].mean(),\n",
        "    \"median\":   gby_regimen[\"Tumor Volume (mm3)\"].median(),\n",
        "    \"variance\": gby_regimen[\"Tumor Volume (mm3)\"].var(),\n",
        "    \"stdev\":    gby_regimen[\"Tumor Volume (mm3)\"].std(),\n",
        "    \"SEM\":      gby_regimen[\"Tumor Volume (mm3)\"].sem()\n",
        "})\n",
        "summary"
      ],
      "execution_count": 19,
      "outputs": [
        {
          "output_type": "execute_result",
          "data": {
            "text/html": [
              "<div>\n",
              "<style scoped>\n",
              "    .dataframe tbody tr th:only-of-type {\n",
              "        vertical-align: middle;\n",
              "    }\n",
              "\n",
              "    .dataframe tbody tr th {\n",
              "        vertical-align: top;\n",
              "    }\n",
              "\n",
              "    .dataframe thead th {\n",
              "        text-align: right;\n",
              "    }\n",
              "</style>\n",
              "<table border=\"1\" class=\"dataframe\">\n",
              "  <thead>\n",
              "    <tr style=\"text-align: right;\">\n",
              "      <th></th>\n",
              "      <th>mean</th>\n",
              "      <th>median</th>\n",
              "      <th>variance</th>\n",
              "      <th>stdev</th>\n",
              "      <th>SEM</th>\n",
              "    </tr>\n",
              "    <tr>\n",
              "      <th>Drug Regimen</th>\n",
              "      <th></th>\n",
              "      <th></th>\n",
              "      <th></th>\n",
              "      <th></th>\n",
              "      <th></th>\n",
              "    </tr>\n",
              "  </thead>\n",
              "  <tbody>\n",
              "    <tr>\n",
              "      <th>Capomulin</th>\n",
              "      <td>40.675741</td>\n",
              "      <td>41.557809</td>\n",
              "      <td>24.947764</td>\n",
              "      <td>4.994774</td>\n",
              "      <td>0.329346</td>\n",
              "    </tr>\n",
              "    <tr>\n",
              "      <th>Ceftamin</th>\n",
              "      <td>52.591172</td>\n",
              "      <td>51.776157</td>\n",
              "      <td>39.290177</td>\n",
              "      <td>6.268188</td>\n",
              "      <td>0.469821</td>\n",
              "    </tr>\n",
              "    <tr>\n",
              "      <th>Infubinol</th>\n",
              "      <td>52.884795</td>\n",
              "      <td>51.820584</td>\n",
              "      <td>43.128684</td>\n",
              "      <td>6.567243</td>\n",
              "      <td>0.492236</td>\n",
              "    </tr>\n",
              "    <tr>\n",
              "      <th>Ketapril</th>\n",
              "      <td>55.235638</td>\n",
              "      <td>53.698743</td>\n",
              "      <td>68.553577</td>\n",
              "      <td>8.279709</td>\n",
              "      <td>0.603860</td>\n",
              "    </tr>\n",
              "    <tr>\n",
              "      <th>Naftisol</th>\n",
              "      <td>54.331565</td>\n",
              "      <td>52.509285</td>\n",
              "      <td>66.173479</td>\n",
              "      <td>8.134708</td>\n",
              "      <td>0.596466</td>\n",
              "    </tr>\n",
              "    <tr>\n",
              "      <th>Placebo</th>\n",
              "      <td>54.033581</td>\n",
              "      <td>52.288934</td>\n",
              "      <td>61.168083</td>\n",
              "      <td>7.821003</td>\n",
              "      <td>0.581331</td>\n",
              "    </tr>\n",
              "    <tr>\n",
              "      <th>Propriva</th>\n",
              "      <td>52.382993</td>\n",
              "      <td>50.783528</td>\n",
              "      <td>43.220205</td>\n",
              "      <td>6.574208</td>\n",
              "      <td>0.526358</td>\n",
              "    </tr>\n",
              "    <tr>\n",
              "      <th>Ramicane</th>\n",
              "      <td>40.216745</td>\n",
              "      <td>40.673236</td>\n",
              "      <td>23.486704</td>\n",
              "      <td>4.846308</td>\n",
              "      <td>0.320955</td>\n",
              "    </tr>\n",
              "    <tr>\n",
              "      <th>Stelasyn</th>\n",
              "      <td>54.233149</td>\n",
              "      <td>52.431737</td>\n",
              "      <td>59.450562</td>\n",
              "      <td>7.710419</td>\n",
              "      <td>0.573111</td>\n",
              "    </tr>\n",
              "    <tr>\n",
              "      <th>Zoniferol</th>\n",
              "      <td>53.236507</td>\n",
              "      <td>51.818479</td>\n",
              "      <td>48.533355</td>\n",
              "      <td>6.966589</td>\n",
              "      <td>0.516398</td>\n",
              "    </tr>\n",
              "  </tbody>\n",
              "</table>\n",
              "</div>"
            ],
            "text/plain": [
              "                   mean     median   variance     stdev       SEM\n",
              "Drug Regimen                                                     \n",
              "Capomulin     40.675741  41.557809  24.947764  4.994774  0.329346\n",
              "Ceftamin      52.591172  51.776157  39.290177  6.268188  0.469821\n",
              "Infubinol     52.884795  51.820584  43.128684  6.567243  0.492236\n",
              "Ketapril      55.235638  53.698743  68.553577  8.279709  0.603860\n",
              "Naftisol      54.331565  52.509285  66.173479  8.134708  0.596466\n",
              "Placebo       54.033581  52.288934  61.168083  7.821003  0.581331\n",
              "Propriva      52.382993  50.783528  43.220205  6.574208  0.526358\n",
              "Ramicane      40.216745  40.673236  23.486704  4.846308  0.320955\n",
              "Stelasyn      54.233149  52.431737  59.450562  7.710419  0.573111\n",
              "Zoniferol     53.236507  51.818479  48.533355  6.966589  0.516398"
            ]
          },
          "metadata": {
            "tags": []
          },
          "execution_count": 19
        }
      ]
    },
    {
      "cell_type": "markdown",
      "metadata": {
        "id": "A532mHiWCrb6",
        "colab_type": "text"
      },
      "source": [
        "## Bar Plots"
      ]
    },
    {
      "cell_type": "code",
      "metadata": {
        "id": "XZ0mYcUWCrb7",
        "colab_type": "code",
        "colab": {
          "base_uri": "https://localhost:8080/",
          "height": 301
        },
        "outputId": "d5e7661a-2e72-4e45-d09d-12d7b0b2504c"
      },
      "source": [
        "# Generate a bar plot showing the number of mice per time point for each treatment throughout the course of the study using pandas. \n",
        "deduped[\"Timepoint\"].value_counts().plot(kind=\"bar\", title=\"Mice measured at each Timepoint\")"
      ],
      "execution_count": 20,
      "outputs": [
        {
          "output_type": "execute_result",
          "data": {
            "text/plain": [
              "<matplotlib.axes._subplots.AxesSubplot at 0x7efdd71ee2e8>"
            ]
          },
          "metadata": {
            "tags": []
          },
          "execution_count": 20
        },
        {
          "output_type": "display_data",
          "data": {
            "image/png": "[encoded data removed]",
            "text/plain": [
              "<Figure size 432x288 with 1 Axes>"
            ]
          },
          "metadata": {
            "tags": [],
            "needs_background": "light"
          }
        }
      ]
    },
    {
      "cell_type": "code",
      "metadata": {
        "id": "8dTMyVsyCrcE",
        "colab_type": "code",
        "colab": {
          "base_uri": "https://localhost:8080/",
          "height": 1000
        },
        "outputId": "0fe8ae9d-32e2-4918-98b2-226386d78e13"
      },
      "source": [
        "# Generate a bar plot showing the number of mice per time point for each treatment throughout the course of the study using pyplot.\n",
        "\n",
        "#df = pd.DataFrame()\n",
        "for drug in deduped[\"Drug Regimen\"].unique():\n",
        "    plt.figure()\n",
        "    df = gby_regimen[\"Timepoint\"].value_counts()[drug]\n",
        "    df.plot(kind=\"bar\", title=f\"Mice measured at Timepoints for '{drug}''\")\n",
        "plt.show()"
      ],
      "execution_count": 22,
      "outputs": [
        {
          "output_type": "display_data",
          "data": {
            "image/png": "[encoded data removed]",
            "text/plain": [
              "<Figure size 432x288 with 1 Axes>"
            ]
          },
          "metadata": {
            "tags": [],
            "needs_background": "light"
          }
        },
        {
          "output_type": "display_data",
          "data": {
            "image/png": "[encoded data removed]",
            "text/plain": [
              "<Figure size 432x288 with 1 Axes>"
            ]
          },
          "metadata": {
            "tags": [],
            "needs_background": "light"
          }
        },
        {
          "output_type": "display_data",
          "data": {
            "image/png": "[encoded data removed]",
            "text/plain": [
              "<Figure size 432x288 with 1 Axes>"
            ]
          },
          "metadata": {
            "tags": [],
            "needs_background": "light"
          }
        },
        {
          "output_type": "display_data",
          "data": {
            "image/png": "[encoded data removed]",
            "text/plain": [
              "<Figure size 432x288 with 1 Axes>"
            ]
          },
          "metadata": {
            "tags": [],
            "needs_background": "light"
          }
        },
        {
          "output_type": "display_data",
          "data": {
            "image/png": "[encoded data removed]",
            "text/plain": [
              "<Figure size 432x288 with 1 Axes>"
            ]
          },
          "metadata": {
            "tags": [],
            "needs_background": "light"
          }
        },
        {
          "output_type": "display_data",
          "data": {
            "image/png": "[encoded data removed]",
            "text/plain": [
              "<Figure size 432x288 with 1 Axes>"
            ]
          },
          "metadata": {
            "tags": [],
            "needs_background": "light"
          }
        },
        {
          "output_type": "display_data",
          "data": {
            "image/png": "[encoded data removed]",
            "text/plain": [
              "<Figure size 432x288 with 1 Axes>"
            ]
          },
          "metadata": {
            "tags": [],
            "needs_background": "light"
          }
        },
        {
          "output_type": "display_data",
          "data": {
            "image/png": "[encoded data removed]",
            "text/plain": [
              "<Figure size 432x288 with 1 Axes>"
            ]
          },
          "metadata": {
            "tags": [],
            "needs_background": "light"
          }
        },
        {
          "output_type": "display_data",
          "data": {
            "image/png": "[encoded data removed]",
            "text/plain": [
              "<Figure size 432x288 with 1 Axes>"
            ]
          },
          "metadata": {
            "tags": [],
            "needs_background": "light"
          }
        },
        {
          "output_type": "display_data",
          "data": {
            "image/png": "[encoded data removed]",
            "text/plain": [
              "<Figure size 432x288 with 1 Axes>"
            ]
          },
          "metadata": {
            "tags": [],
            "needs_background": "light"
          }
        }
      ]
    },
    {
      "cell_type": "markdown",
      "metadata": {
        "id": "gntNqR4ZCrcO",
        "colab_type": "text"
      },
      "source": [
        "## Pie Plots"
      ]
    },
    {
      "cell_type": "code",
      "metadata": {
        "id": "pFk-PTAnCrcP",
        "colab_type": "code",
        "colab": {
          "base_uri": "https://localhost:8080/",
          "height": 248
        },
        "outputId": "0d830cfd-3326-469b-9e93-f912eaf7e12d"
      },
      "source": [
        "# Generate a pie plot showing the distribution of female versus male mice using pandas\n",
        "_ = deduped.drop_duplicates([\"Mouse ID\"])[\"Sex\"].value_counts().plot(kind=\"pie\", autopct=\"%1.1f%%\")"
      ],
      "execution_count": 23,
      "outputs": [
        {
          "output_type": "display_data",
          "data": {
            "image/png": "[encoded data removed]",
            "text/plain": [
              "<Figure size 432x288 with 1 Axes>"
            ]
          },
          "metadata": {
            "tags": []
          }
        }
      ]
    },
    {
      "cell_type": "code",
      "metadata": {
        "id": "dWq3PriYCrcY",
        "colab_type": "code",
        "colab": {
          "base_uri": "https://localhost:8080/",
          "height": 248
        },
        "outputId": "b5f78d3f-7d04-4f19-d659-893ca6e50396"
      },
      "source": [
        "# Generate a pie plot showing the distribution of female versus male mice using pyplot\n",
        "s1 = deduped.drop_duplicates([\"Mouse ID\"])[\"Sex\"].value_counts()\n",
        "\n",
        "_ = plt.pie(\n",
        "    s1,\n",
        "    labels = s1.index,\n",
        "    autopct = \"%1.1f%%\")"
      ],
      "execution_count": 24,
      "outputs": [
        {
          "output_type": "display_data",
          "data": {
            "image/png": "[encoded data removed]",
            "text/plain": [
              "<Figure size 432x288 with 1 Axes>"
            ]
          },
          "metadata": {
            "tags": []
          }
        }
      ]
    },
    {
      "cell_type": "markdown",
      "metadata": {
        "id": "TOpaa1lrCrcj",
        "colab_type": "text"
      },
      "source": [
        "## Quartiles, Outliers and Boxplots"
      ]
    },
    {
      "cell_type": "code",
      "metadata": {
        "id": "HFXBjqDSCrck",
        "colab_type": "code",
        "colab": {}
      },
      "source": [
        "# Calculate the final tumor volume of each mouse across four of the most promising treatment regimens. Calculate the IQR and quantitatively determine if there are any potential outliers. \n"
      ],
      "execution_count": 0,
      "outputs": []
    },
    {
      "cell_type": "code",
      "metadata": {
        "id": "qeyNcpoRCrcr",
        "colab_type": "code",
        "colab": {}
      },
      "source": [
        "# Generate a box plot of the final tumor volume of each mouse across four regimens of interest"
      ],
      "execution_count": 0,
      "outputs": []
    },
    {
      "cell_type": "markdown",
      "metadata": {
        "id": "x36BCYenCrcz",
        "colab_type": "text"
      },
      "source": [
        "## Line and Scatter Plots"
      ]
    },
    {
      "cell_type": "code",
      "metadata": {
        "id": "TI7z08IMCrc1",
        "colab_type": "code",
        "colab": {}
      },
      "source": [
        "# Generate a line plot of time point versus tumor volume for a mouse treated with Capomulin\n"
      ],
      "execution_count": 0,
      "outputs": []
    },
    {
      "cell_type": "code",
      "metadata": {
        "id": "2tssu79BCrc7",
        "colab_type": "code",
        "colab": {}
      },
      "source": [
        "# Generate a scatter plot of mouse weight versus average tumor volume for the Capomulin regimen\n",
        "\n"
      ],
      "execution_count": 0,
      "outputs": []
    },
    {
      "cell_type": "markdown",
      "metadata": {
        "id": "L6RCvvsMCrdD",
        "colab_type": "text"
      },
      "source": [
        "## Correlation and Regression"
      ]
    },
    {
      "cell_type": "code",
      "metadata": {
        "id": "KMGRMBU8CrdE",
        "colab_type": "code",
        "colab": {}
      },
      "source": [
        "# Calculate the correlation coefficient and linear regression model \n",
        "# for mouse weight and average tumor volume for the Capomulin regimen\n"
      ],
      "execution_count": 0,
      "outputs": []
    },
    {
      "cell_type": "code",
      "metadata": {
        "id": "XKKKKLwzCrdL",
        "colab_type": "code",
        "colab": {}
      },
      "source": [
        ""
      ],
      "execution_count": 0,
      "outputs": []
    }
  ]
}